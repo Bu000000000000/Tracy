{
 "cells": [
  {
   "cell_type": "markdown",
   "id": "88a78222-e10c-4f02-bd50-0addb5a70977",
   "metadata": {},
   "source": [
    "# Data Science Tools and Ecosystem"
   ]
  },
  {
   "attachments": {},
   "cell_type": "markdown",
   "id": "6492e1d8-2f8b-48a2-aafd-037bb88d65d4",
   "metadata": {},
   "source": [
    "In this notebook, Data Science Tools and Ecosystem are summarized."
   ]
  },
  {
   "cell_type": "markdown",
   "id": "a462ead8-a862-48f9-bfac-9351fbc91776",
   "metadata": {},
   "source": [
    "Some of the popular languages that Data Scientists use are:\n",
    "1. python\n",
    "2. Julia\n",
    "3. R\n",
    "4. Java"
   ]
  },
  {
   "cell_type": "markdown",
   "id": "23fced20-456d-4550-8103-1eec4a28605c",
   "metadata": {},
   "source": [
    "Some of the commonly used libraries used by Data Scientists include:\n",
    "1. pandas\n",
    "2. numpy\n",
    "3. ggplot"
   ]
  },
  {
   "cell_type": "markdown",
   "id": "04b3a525-1021-41dd-b4f9-22c225f3738e",
   "metadata": {},
   "source": [
    "|Data Science Tools|\n",
    "|-|\n",
    "|spark|\n",
    "|flink|\n",
    "|mysql|"
   ]
  },
  {
   "cell_type": "markdown",
   "id": "1633030c-8a74-489d-8a06-ce18af9489d9",
   "metadata": {},
   "source": [
    "### Below are a few examples of evaluating arithmetic expressions in Python"
   ]
  },
  {
   "cell_type": "code",
   "execution_count": 7,
   "id": "743c16bb-3eb2-4403-9e7d-d75e4c8a4a28",
   "metadata": {},
   "outputs": [
    {
     "data": {
      "text/plain": [
       "17"
      ]
     },
     "execution_count": 7,
     "metadata": {},
     "output_type": "execute_result"
    }
   ],
   "source": [
    " #This a simple arithmetic expression to mutiply then add integers\n",
    "(3*4)+5"
   ]
  },
  {
   "cell_type": "code",
   "execution_count": 9,
   "id": "b2e4d8c5-c8b1-4e3d-a8bd-4dc2e989d878",
   "metadata": {},
   "outputs": [
    {
     "name": "stdout",
     "output_type": "stream",
     "text": [
      "3.3333333333333335\n"
     ]
    }
   ],
   "source": [
    "#This will convert 200 minutes to hours by diving by 60\n",
    "hours=200/60\n",
    "print(hours)"
   ]
  },
  {
   "cell_type": "markdown",
   "id": "b82e1017-847e-43f7-9ae1-3111a36063b4",
   "metadata": {},
   "source": [
    "**Objectives:**\n",
    "* List popular languages for Data Science\n",
    "* List popular tools for Data Science\n",
    "* List expressions"
   ]
  },
  {
   "cell_type": "markdown",
   "id": "9ce3a1ee-0362-4015-965d-bd5193a16187",
   "metadata": {},
   "source": [
    "## Author\n",
    "ZiLing Bu"
   ]
  },
  {
   "cell_type": "code",
   "execution_count": null,
   "id": "e28a677c-c022-4225-9648-01583aed4470",
   "metadata": {},
   "outputs": [],
   "source": []
  }
 ],
 "metadata": {
  "kernelspec": {
   "display_name": "Python [conda env:base] *",
   "language": "python",
   "name": "conda-base-py"
  },
  "language_info": {
   "codemirror_mode": {
    "name": "ipython",
    "version": 3
   },
   "file_extension": ".py",
   "mimetype": "text/x-python",
   "name": "python",
   "nbconvert_exporter": "python",
   "pygments_lexer": "ipython3",
   "version": "3.12.7"
  }
 },
 "nbformat": 4,
 "nbformat_minor": 5
}
